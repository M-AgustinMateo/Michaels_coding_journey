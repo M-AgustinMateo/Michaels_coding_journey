{
 "cells": [
  {
   "cell_type": "code",
   "execution_count": 11,
   "id": "2ccc5d25",
   "metadata": {},
   "outputs": [],
   "source": [
    "# immutable object: tuple --> (____)\n",
    "# mutable: list --> [____]\n",
    "\n",
    "# tuples technically defined by the comma in them --> (___, ___)\n",
    "# tuple with one element --> ex) (3,)\n",
    "\n",
    "# can reassign the tuple variable to be defined as something else"
   ]
  },
  {
   "cell_type": "code",
   "execution_count": 16,
   "id": "8e004a5e",
   "metadata": {},
   "outputs": [
    {
     "name": "stdout",
     "output_type": "stream",
     "text": [
      "pizza\n",
      "burgers\n",
      "tenders\n",
      "subs\n",
      "pasta\n"
     ]
    },
    {
     "ename": "TypeError",
     "evalue": "'tuple' object does not support item assignment",
     "output_type": "error",
     "traceback": [
      "\u001b[1;31m---------------------------------------------------------------------------\u001b[0m",
      "\u001b[1;31mTypeError\u001b[0m                                 Traceback (most recent call last)",
      "Input \u001b[1;32mIn [16]\u001b[0m, in \u001b[0;36m<cell line: 6>\u001b[1;34m()\u001b[0m\n\u001b[0;32m      3\u001b[0m \u001b[38;5;28;01mfor\u001b[39;00m food \u001b[38;5;129;01min\u001b[39;00m foods:\n\u001b[0;32m      4\u001b[0m     \u001b[38;5;28mprint\u001b[39m(food)\n\u001b[1;32m----> 6\u001b[0m foods[\u001b[38;5;241m0\u001b[39m]\u001b[38;5;241m=\u001b[39m\u001b[38;5;124m'\u001b[39m\u001b[38;5;124mpie\u001b[39m\u001b[38;5;124m'\u001b[39m\n\u001b[0;32m      7\u001b[0m \u001b[38;5;28mprint\u001b[39m(foods[\u001b[38;5;241m0\u001b[39m])\n",
      "\u001b[1;31mTypeError\u001b[0m: 'tuple' object does not support item assignment"
     ]
    }
   ],
   "source": [
    "foods = ('pizza', 'burgers', 'tenders', 'subs', 'pasta')\n",
    "\n",
    "for food in foods:\n",
    "    print(food)\n",
    "\n",
    "foods[0]='pie'\n",
    "print(foods[0])"
   ]
  },
  {
   "cell_type": "code",
   "execution_count": 1,
   "id": "2b0eb12f",
   "metadata": {},
   "outputs": [
    {
     "data": {
      "text/plain": [
       "True"
      ]
     },
     "execution_count": 1,
     "metadata": {},
     "output_type": "execute_result"
    }
   ],
   "source": [
    "'''IF statements can be used to formulate the code to pick out items based on conditional statements'''\n",
    "# the below code conducts a conditional test\n",
    "car = 'bmw'\n",
    "car == 'bmw'\n",
    "\n",
    "# when running a conditional test, the case of the variable can be changed\n",
    "# to ensure that it does not affect the outcome. just checking that variable \n",
    "# is the value for which we are looking. \n",
    "\n",
    "# can convert the case of the variable to make test true"
   ]
  },
  {
   "cell_type": "code",
   "execution_count": 2,
   "id": "ac93c39b",
   "metadata": {},
   "outputs": [
    {
     "name": "stdout",
     "output_type": "stream",
     "text": [
      "Hold the anchovies!\n"
     ]
    }
   ],
   "source": [
    "'''Inequality check''' # tests for inequality of the statement/object\n",
    "\n",
    "requested_topping = 'mushrooms'\n",
    "\n",
    "if requested_topping != 'anchovies':\n",
    "    print(\"Hold the anchovies!\")"
   ]
  },
  {
   "cell_type": "code",
   "execution_count": 3,
   "id": "2ce4dd7a",
   "metadata": {},
   "outputs": [
    {
     "data": {
      "text/plain": [
       "'not in'"
      ]
     },
     "execution_count": 3,
     "metadata": {},
     "output_type": "execute_result"
    }
   ],
   "source": [
    "# we have the following mathematical comparisons:\n",
    "\n",
    "# <, >, <=, >=\n",
    "\n",
    "'''we can use AND/OR to test multiple conditions'''\n",
    "# AND fails if any one condition false or both are false\n",
    "# OR fails only if both tests fail\n",
    "\n",
    "age_0 = 21\n",
    "age_1 = 18 \n",
    "\n",
    "age_0 >= 21 and age_1 >= 21 # parentheses can be added to make reading easier\n",
    "\n",
    "\n",
    "'''Checking a value in a list'''\n",
    "# use the word IN to check\n",
    "# ex) ____ in (list name)\n",
    "\n",
    "'''not in''' # this keyword can be used to determine the absence of a value"
   ]
  },
  {
   "cell_type": "code",
   "execution_count": 4,
   "id": "be63bafa",
   "metadata": {},
   "outputs": [
    {
     "data": {
      "text/plain": [
       "'     else:  '"
      ]
     },
     "execution_count": 4,
     "metadata": {},
     "output_type": "execute_result"
    }
   ],
   "source": [
    "# if-else can be used to test two different conditions\n",
    "# if-elif-else can be used to test more than two situations\n",
    "\n",
    "' ex) if: '\n",
    "'     elif:  '\n",
    "'     else:  '\n",
    "\n",
    "# an ELIF can sometimes be a better choice than ELSE when testing a specific\n",
    "# condition in the test. \n",
    "# Multiple IF statements can be used to run multiple tests"
   ]
  },
  {
   "cell_type": "code",
   "execution_count": 7,
   "id": "8062ed4e",
   "metadata": {},
   "outputs": [
    {
     "name": "stdout",
     "output_type": "stream",
     "text": [
      "Hooray! You earned 5 points.\n",
      "alien not found\n"
     ]
    }
   ],
   "source": [
    "alien_color = 'yellow'\n",
    "\n",
    "if alien_color == 'yellow':\n",
    "    print(\"Hooray! You earned 5 points.\")\n",
    "\n",
    "alien_color = 'red'\n",
    "\n",
    "if alien_color == 'yellow':\n",
    "    print(\"Hooray! You earned 5 points.\")\n",
    "else:\n",
    "    print(\"alien not found\")"
   ]
  },
  {
   "cell_type": "code",
   "execution_count": 8,
   "id": "8450dd4b",
   "metadata": {},
   "outputs": [],
   "source": [
    "# an IF statement can be used to check if a list is empty\n",
    "\n",
    "# ex) if (list name):\n",
    "#        for ___ in (list name):\n",
    "#     else: "
   ]
  },
  {
   "cell_type": "code",
   "execution_count": 11,
   "id": "eb4015f1",
   "metadata": {},
   "outputs": [
    {
     "name": "stdout",
     "output_type": "stream",
     "text": [
      "We need to find users!\n"
     ]
    }
   ],
   "source": [
    "usernames = []\n",
    "\n",
    "if usernames:\n",
    "    for username in usernames:\n",
    "        print(f\"Hello {username}, would you like to login?\")\n",
    "else:\n",
    "    print(\"We need to find users!\")\n",
    "    \n",
    "# remember that if and else need the same level of indentation"
   ]
  },
  {
   "cell_type": "code",
   "execution_count": 18,
   "id": "8d35be26",
   "metadata": {},
   "outputs": [
    {
     "name": "stdout",
     "output_type": "stream",
     "text": [
      "username is available\n",
      "enter a new username\n",
      "username is available\n",
      "username is available\n",
      "enter a new username\n"
     ]
    }
   ],
   "source": [
    "current_users = ['ash','Brock','misty','Gary','OAK']\n",
    "new_users = ['tom','brock','peyton','kaz','oak']\n",
    "y = [x.lower() for x in current_users] # utilization of a list comprehension\n",
    "\n",
    "for user in new_users:\n",
    "    if user in y:\n",
    "        print('enter a new username')\n",
    "    else:\n",
    "        print('username is available')"
   ]
  },
  {
   "cell_type": "code",
   "execution_count": 23,
   "id": "186227c8",
   "metadata": {},
   "outputs": [
    {
     "name": "stdout",
     "output_type": "stream",
     "text": [
      "1st\n",
      "2nd\n",
      "3rd\n",
      "4th\n",
      "5th\n",
      "6th\n",
      "7th\n",
      "8th\n",
      "9th\n"
     ]
    }
   ],
   "source": [
    "numbers = [1,2,3,4,5,6,7,8,9]\n",
    "\n",
    "for number in numbers:\n",
    "    if number == 1:\n",
    "        print(f\"{number}\"+'st')\n",
    "    elif number == 2:\n",
    "        print(f\"{number}\"+'nd')\n",
    "    elif number == 3:\n",
    "        print(f\"{number}\"+'rd')\n",
    "    else:\n",
    "        print(f\"{number}\"+'th')"
   ]
  },
  {
   "cell_type": "code",
   "execution_count": null,
   "id": "4b733ee4",
   "metadata": {},
   "outputs": [],
   "source": []
  }
 ],
 "metadata": {
  "kernelspec": {
   "display_name": "Python 3 (ipykernel)",
   "language": "python",
   "name": "python3"
  },
  "language_info": {
   "codemirror_mode": {
    "name": "ipython",
    "version": 3
   },
   "file_extension": ".py",
   "mimetype": "text/x-python",
   "name": "python",
   "nbconvert_exporter": "python",
   "pygments_lexer": "ipython3",
   "version": "3.9.7"
  }
 },
 "nbformat": 4,
 "nbformat_minor": 5
}
