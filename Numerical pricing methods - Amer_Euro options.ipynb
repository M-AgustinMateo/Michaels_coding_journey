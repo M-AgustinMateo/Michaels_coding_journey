{
 "cells": [
  {
   "cell_type": "code",
   "execution_count": 7,
   "id": "a1cc186e",
   "metadata": {},
   "outputs": [
    {
     "name": "stdout",
     "output_type": "stream",
     "text": [
      "0.6281777409400603\n"
     ]
    }
   ],
   "source": [
    "# note about futures contract: p = (1-d)/(u-d)\n",
    "\n",
    "\"\"\"put option example - calculate risk neutral probability p \"\"\"\n",
    "\n",
    "# call option - in the money when K<ST can buy below market value\n",
    "# put option - in the money when K>ST can sell for value higher than market value\n",
    "\n",
    "import numpy \n",
    "import math\n",
    "\n",
    "\n",
    "# u == multiplicative up factor, d == down factor\n",
    "# p == risk-neutral probability \n",
    "\n",
    "r = 0.05\n",
    "T = 2\n",
    "dt = T/2\n",
    "u = 1.2\n",
    "d = 0.8\n",
    "\n",
    "p = (math.exp(r*dt)-d)/(u-d)\n",
    "\n",
    "print(p)"
   ]
  },
  {
   "cell_type": "code",
   "execution_count": 102,
   "id": "bb3d29b8",
   "metadata": {},
   "outputs": [],
   "source": [
    "\"\"\"writing Stockoption base class - reusable code for attributes of stock option\n",
    "for this chapter\"\"\"\n",
    "\n",
    "import math \n",
    "\n",
    "class StockOption(object):\n",
    "    def __init__(self,S0,K,r=0.05,T=1,N=2,pu=0,pd=0,div=0,sigma=0,is_put=False, is_am=False) :\n",
    "        \"\"\"defaults to Euro call unless specified\"\"\"\n",
    "\n",
    "        self.S0 = S0\n",
    "        self.K = K\n",
    "        self.T = T\n",
    "        self.r = r\n",
    "        self.N = max(1,N) # number of time steps\n",
    "        self.STs = [] # declare the stock prices tree\n",
    "        \n",
    "        self.pu, self.pd = pu, pd \n",
    "        self.div = div \n",
    "        self.sigma = sigma\n",
    "        self.is_call = not is_put\n",
    "        self.is_european = not is_am \n",
    "    \n",
    "    @property\n",
    "    def dt(self):\n",
    "        return self.T/float(self.N)\n",
    "        \n",
    "        # the discount factor \n",
    "    @property\n",
    "    def df(self):\n",
    "        return math.exp(-(self.r-self.div)*self.dt)\n",
    "        "
   ]
  },
  {
   "cell_type": "code",
   "execution_count": 103,
   "id": "a127da91",
   "metadata": {},
   "outputs": [],
   "source": [
    "\"\"\"Class for Euro options in Binomial tree\"\"\"\n",
    "\n",
    "import math \n",
    "import numpy as np\n",
    "from decimal import Decimal\n",
    "\n",
    "class BinomialEuropeanOption(StockOption):\n",
    "    def setup_parameters(self):\n",
    "        self.M = self.N+1  # number of terminal nodes\n",
    "        self.u = 1 + self.pu # expected value in up state\n",
    "        self.d = 1-self.pd # expected value in down state\n",
    "        self.qu = (math.exp((self.r-self.div)*self.dt)-self.d)/(self.u-self.d)\n",
    "        self.qd = 1-self.qu\n",
    "        \n",
    "    def init_stock_price_tree(self):\n",
    "        # initialize terminal node prices at sero\n",
    "        self.STs = np.zeros(self.M)\n",
    "        \n",
    "        # expected stock prices at each node \n",
    "        for i in range(self.M):\n",
    "            self.STs[i]=self.S0*(self.u**(self.N-i)*(self.d**i))\n",
    "            \n",
    "      # returns payoff when option expires at terminal node       \n",
    "    def init_payoffs_tree(self):\n",
    "        if self.is_call:\n",
    "            return np.maximum(0, self.STs-self.K)\n",
    "        else:\n",
    "            return np.maximum(0, self.K-self.STs)\n",
    "    \n",
    "    '''starting at expiration time, traverse backwards and calculate\n",
    "    discounted payoffs at each node'''\n",
    "    \n",
    "    # [:-1] = all elements except last, [1:] = all elements except first (0)\n",
    "    def traverse_tree(self, payoffs):\n",
    "        for i in range(self.N):\n",
    "            payoffs = (payoffs[:-1]*self.qu + payoffs[1:]*self.qd)*self.df\n",
    "            \n",
    "        return payoffs\n",
    "        \n",
    "    def begin_tree_traversal(self):\n",
    "        payoffs = self.init_payoffs_tree()\n",
    "        return self.traverse_tree(payoffs)\n",
    "    \n",
    "    def price(self):\n",
    "        \"\"\"starting point of the tree and provides option value\"\"\"\n",
    "        self.setup_parameters()\n",
    "        self.init_stock_price_tree()\n",
    "        payoffs = self.begin_tree_traversal()\n",
    "        \n",
    "        return payoffs[0]"
   ]
  },
  {
   "cell_type": "code",
   "execution_count": 115,
   "id": "e818e064",
   "metadata": {},
   "outputs": [
    {
     "name": "stdout",
     "output_type": "stream",
     "text": [
      "7.141108542733969\n"
     ]
    }
   ],
   "source": [
    "eu_option=BinomialEuropeanOption(50,52,r=0.05,T=2,N=2,pu=0.2,pd=0.2,is_put=False)\n",
    "print(eu_option.price())\n",
    "    \n",
    "    "
   ]
  },
  {
   "cell_type": "code",
   "execution_count": 113,
   "id": "5fccd7f4",
   "metadata": {},
   "outputs": [],
   "source": [
    "\"\"\"American options with binomial tree\"\"\"\n",
    "\n",
    "import math \n",
    "import numpy as np\n",
    "from decimal import Decimal\n",
    "\n",
    "class BinomialTreeOption(StockOption):\n",
    "    def setup_parameters(self):\n",
    "    \n",
    "        self.u = 1 + self.pu # expected value in up state\n",
    "        self.d = 1-self.pd # expected value in down state\n",
    "        self.qu = (math.exp((self.r-self.div)*self.dt)-self.d)/(self.u-self.d)\n",
    "        self.qd = 1-self.qu\n",
    "        \n",
    "# store expected returns of stock price at all time steps in NumPy array\n",
    "\n",
    "    def init_stock_price_Tree(self):\n",
    "        self.STs = [np.array([self.S0])] # initialize 2D tree at T=0\n",
    "        \n",
    "        for i in range(self.N): # simulate possible stock prices path\n",
    "            prev_branches = self.STs[-1]\n",
    "            st = np.concatenate(\n",
    "                (prev_branches*self.u,\n",
    "                 [prev_branches[-1]*self.d]))\n",
    "            self.STs.append(st) # add  nodes at each time step \n",
    "\n",
    "# creates payoff tree as 2D array. Starts with intrinsic option value @ maturity\n",
    "\n",
    "    def init_payoff_tree(self):\n",
    "        if self.is_call:\n",
    "            return np.maximum(0,self.STs[self.N]-self.K)\n",
    "        else:\n",
    "            return np.maximum(0,self.K-self.STs[self.N])\n",
    "  \n",
    " # returns maximum payoff values b/w exercising early or not at all\n",
    "    def check_early_exercise(self,payoffs,node):\n",
    "        if self.is_call:\n",
    "            return np.maximum(payoffs, self.STs[node]-self.K)\n",
    "        else:\n",
    "            return np.maximum(payoffs,self.K-self.STs[node])\n",
    "   \n",
    " # checks if optimal to exercise Am option early at every time step \n",
    " # also moves through tree to find discount price at each step \n",
    "    def traverse_tree(self, payoffs):\n",
    "        for i in reversed(range(self.N)):\n",
    "            # payoff if not exercising the option\n",
    "            payoffs = (payoffs[:-1]*self.qu + \n",
    "                       payoffs[1:]*self.qd)*self.df\n",
    "            \n",
    "            # payoff from exercising, for Am options\n",
    "            if not self.is_european:\n",
    "                payoffs = self.check_early_exercise(payoffs,i)\n",
    "        \n",
    "        return payoffs\n",
    "    \n",
    "    def begin_tree_traversal(self):\n",
    "        payoffs = self.init_payoff_tree()\n",
    "        return self.traverse_tree(payoffs)\n",
    "    \n",
    "    def price(self):\n",
    "        \"\"\"starting point of the tree and provides option value\"\"\"\n",
    "        self.setup_parameters()\n",
    "        self.init_stock_price_Tree()\n",
    "        payoffs = self.begin_tree_traversal()\n",
    "        \n",
    "        return payoffs[0]"
   ]
  },
  {
   "cell_type": "code",
   "execution_count": 114,
   "id": "fde2ae90",
   "metadata": {},
   "outputs": [
    {
     "name": "stdout",
     "output_type": "stream",
     "text": [
      "5.089632474198373\n"
     ]
    }
   ],
   "source": [
    "am_option = BinomialTreeOption(50,52,r=0.05,T=2,N=2,pu=0.2,pd=0.2,is_put=True,is_am=True)\n",
    "\n",
    "print(am_option.price())"
   ]
  },
  {
   "cell_type": "code",
   "execution_count": null,
   "id": "2625a998",
   "metadata": {},
   "outputs": [],
   "source": []
  }
 ],
 "metadata": {
  "kernelspec": {
   "display_name": "Python 3 (ipykernel)",
   "language": "python",
   "name": "python3"
  },
  "language_info": {
   "codemirror_mode": {
    "name": "ipython",
    "version": 3
   },
   "file_extension": ".py",
   "mimetype": "text/x-python",
   "name": "python",
   "nbconvert_exporter": "python",
   "pygments_lexer": "ipython3",
   "version": "3.9.13"
  }
 },
 "nbformat": 4,
 "nbformat_minor": 5
}
