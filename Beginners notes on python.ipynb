{
 "cells": [
  {
   "cell_type": "code",
   "execution_count": 5,
   "id": "0a32988d",
   "metadata": {},
   "outputs": [
    {
     "name": "stdout",
     "output_type": "stream",
     "text": [
      "HOMIE\n",
      "homie\n"
     ]
    }
   ],
   "source": [
    "print(C.upper())\n",
    "print(C.lower())"
   ]
  },
  {
   "cell_type": "code",
   "execution_count": 12,
   "id": "60d65d11",
   "metadata": {},
   "outputs": [
    {
     "name": "stdout",
     "output_type": "stream",
     "text": [
      "ML me\n"
     ]
    }
   ],
   "source": [
    "first_letter = \"M\"\n",
    "last_letter = \"L\"\n",
    "# f in front allows the insertion of a variable's value into a string\n",
    "# braces need to be used where value is to be inserted\n",
    "two_letters = f\"{first_letter}{last_letter} me\" \n",
    "print(two_letters)"
   ]
  },
  {
   "cell_type": "code",
   "execution_count": 7,
   "id": "0c58ef9b",
   "metadata": {},
   "outputs": [
    {
     "name": "stdout",
     "output_type": "stream",
     "text": [
      "python\n",
      "\tC\n",
      "\tpython\n"
     ]
    }
   ],
   "source": [
    "# \\n adds a new line in the output\n",
    "print(\"python\\n\\tC\")\n",
    "\n",
    "# \\t adds a tab to output\n",
    "print(\"\\tpython\")\n",
    "\n",
    "# can be combined \\n\\t"
   ]
  },
  {
   "cell_type": "code",
   "execution_count": 2,
   "id": "47836080",
   "metadata": {},
   "outputs": [
    {
     "name": "stdout",
     "output_type": "stream",
     "text": [
      "['trek', 'cannondale']\n"
     ]
    }
   ],
   "source": [
    "# underscores can be used to represent large numbers: 14000 = 14_000\n",
    "# multiple assignment:  x,y,z = 1,2,3\n",
    "# print(___[0:2]) excludes the final value 2 --> in general [0:x], x is excluded\n",
    "\n",
    "bicycles = ['trek', 'cannondale','redline','specialzed']\n",
    "print(bicycles[0:2])"
   ]
  },
  {
   "cell_type": "code",
   "execution_count": 33,
   "id": "d232b550",
   "metadata": {},
   "outputs": [
    {
     "name": "stdout",
     "output_type": "stream",
     "text": [
      "it's nice to meet you Bob\n",
      "it's nice to meet you Billy\n",
      "it's nice to meet you Brianne\n",
      "it's nice to meet you Brittney\n"
     ]
    }
   ],
   "source": [
    "names = ['Bob','Billy','Brianne','Brittney']\n",
    "\n",
    "\n",
    "for name in names:\n",
    "    print(f\"it's nice to meet you {name}\" )"
   ]
  },
  {
   "cell_type": "code",
   "execution_count": 36,
   "id": "e5883425",
   "metadata": {},
   "outputs": [],
   "source": [
    "# initializing a list \n",
    "#ex) C[0] = 0  means the first element is a zero of the list/or is modification of existing list value\n",
    "\n",
    "# .insert() method allows insertion of new value into the list - .insert(position, 'value to be inserted')\n",
    "\n",
    "# .append and .insert methods both add a new value without removing any previous values\n",
    "\n",
    "# del statement can be used to remove data if position is known\n",
    "# ex) del motorcycles[0] - removes 1st data value from list"
   ]
  },
  {
   "cell_type": "code",
   "execution_count": 5,
   "id": "521a60b1",
   "metadata": {},
   "outputs": [
    {
     "name": "stdout",
     "output_type": "stream",
     "text": [
      "I would like to invite you, alpha, to dinner\n",
      "I would like to invite you, beta, to dinner\n",
      "I would like to invite you, gamma, to dinner\n",
      "unfortunately, beta cannot make it to dinner\n",
      "I would like to invite you to the dinner, alpha\n",
      "I would like to invite you to the dinner, omega\n",
      "I would like to invite you to the dinner, gamma\n",
      "I have found accommodations for more friends!\n",
      "hello! Welcome to dinner, alpha prime\n",
      "hello! Welcome to dinner, alpha\n",
      "hello! Welcome to dinner, gprime\n",
      "hello! Welcome to dinner, omega\n",
      "hello! Welcome to dinner, gamma\n",
      "hello! Welcome to dinner, psi\n",
      "Sorry,psi, I do not have space!\n",
      "Sorry,gamma, I do not have space!\n",
      "Sorry,omega, I do not have space!\n",
      "Sorry,gprime, I do not have space!\n",
      "alpha prime, Thank you for coming!\n",
      "alpha, Thank you for coming!\n",
      "[]\n"
     ]
    }
   ],
   "source": [
    "invites = ['alpha','beta','gamma']\n",
    "for invite in invites:\n",
    "    print(f\"I would like to invite you, {invite}, to dinner\")\n",
    "    \n",
    "print(\"unfortunately, beta cannot make it to dinner\")\n",
    "del invites[1]\n",
    "invites.insert(1,'omega')\n",
    "for invite in invites:\n",
    "    print(f\"I would like to invite you to the dinner, {invite}\")\n",
    "\n",
    "invites.insert(0,'alpha prime')\n",
    "invites.insert(2,'gprime')\n",
    "invites.append('psi')\n",
    "\n",
    "print(\"I have found accommodations for more friends!\")\n",
    "for invite in invites: \n",
    "    \n",
    "    print(f\"hello! Welcome to dinner, {invite}\")\n",
    "    \n",
    "A = invites.pop()\n",
    "B = invites.pop()\n",
    "C = invites.pop()\n",
    "D = invites.pop()\n",
    "\n",
    "letters = [A,B,C,D]\n",
    "for letter in letters:\n",
    "    print(f\"Sorry,{letter}, I do not have space!\")\n",
    "for invite in invites:\n",
    "    print(f\"{invite}, Thank you for coming!\")\n",
    "\n",
    "del invites[0]\n",
    "del invites[0]\n",
    "print(invites)"
   ]
  },
  {
   "cell_type": "code",
   "execution_count": null,
   "id": "41619899",
   "metadata": {},
   "outputs": [],
   "source": [
    "# .pop(position) method can be used to remove the last element from the list and allows\n",
    "# for later retrieval by calling the removed element \n",
    "# .remove('element name') method can be used when the position is not known\n",
    "# and .remove only removes the first instance of the element. Need to loop\n",
    "# to remove any other occurrences. \n",
    "\n",
    "\"\"\"Remember each time .pop() or del is used, the LIST shortens by one element each time!\"\"\"\n"
   ]
  }
 ],
 "metadata": {
  "kernelspec": {
   "display_name": "Python 3 (ipykernel)",
   "language": "python",
   "name": "python3"
  },
  "language_info": {
   "codemirror_mode": {
    "name": "ipython",
    "version": 3
   },
   "file_extension": ".py",
   "mimetype": "text/x-python",
   "name": "python",
   "nbconvert_exporter": "python",
   "pygments_lexer": "ipython3",
   "version": "3.9.13"
  }
 },
 "nbformat": 4,
 "nbformat_minor": 5
}
