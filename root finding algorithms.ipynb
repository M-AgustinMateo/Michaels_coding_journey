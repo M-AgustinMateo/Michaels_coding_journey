{
 "cells": [
  {
   "cell_type": "code",
   "execution_count": 2,
   "id": "bcfbc23d",
   "metadata": {},
   "outputs": [
    {
     "name": "stdout",
     "output_type": "stream",
     "text": [
      "[  6.  15. -23.]\n"
     ]
    }
   ],
   "source": [
    "import numpy as np\n",
    "\n",
    "A = np.array([[2,1,1],[1,3,2],[1,0,0]])\n",
    "B = np.array([4,5,6])\n",
    "\n",
    "print(np.linalg.solve(A,B))"
   ]
  },
  {
   "cell_type": "code",
   "execution_count": 4,
   "id": "472e24c9",
   "metadata": {},
   "outputs": [],
   "source": [
    "# incremental search \n",
    "import numpy as np\n",
    "\n",
    "def increm_search(func, a, b, dx):\n",
    "    fa = func(a)\n",
    "    c = a + dx\n",
    "    fc = func(c)\n",
    "    n=1\n",
    "    \n",
    "    while np.sign(fa) == np.sign(fc):\n",
    "            if a >= b:\n",
    "                return a-dx, n \n",
    "            a = c\n",
    "            fa = fc\n",
    "            c = a+dx\n",
    "            fc = func(c)\n",
    "            n += 1\n",
    "    \n",
    "    if fa == 0:\n",
    "        return a,n\n",
    "    elif fc == 0:\n",
    "        return c, n \n",
    "    else:\n",
    "        return (a+c)/2 , n"
   ]
  },
  {
   "cell_type": "code",
   "execution_count": 5,
   "id": "36a3a3f2",
   "metadata": {},
   "outputs": [
    {
     "name": "stdout",
     "output_type": "stream",
     "text": [
      "root is 1.2414999999999783\n",
      "iterations 6242\n"
     ]
    }
   ],
   "source": [
    "y = lambda x: x**3 + 2*x**2 -5 \n",
    "root, iterations = increm_search(y,-5,5,0.001)\n",
    "print(\"root is\",root)\n",
    "print(\"iterations\", iterations)"
   ]
  },
  {
   "cell_type": "code",
   "execution_count": null,
   "id": "b20c60c9",
   "metadata": {},
   "outputs": [],
   "source": []
  }
 ],
 "metadata": {
  "kernelspec": {
   "display_name": "Python 3 (ipykernel)",
   "language": "python",
   "name": "python3"
  },
  "language_info": {
   "codemirror_mode": {
    "name": "ipython",
    "version": 3
   },
   "file_extension": ".py",
   "mimetype": "text/x-python",
   "name": "python",
   "nbconvert_exporter": "python",
   "pygments_lexer": "ipython3",
   "version": "3.9.13"
  }
 },
 "nbformat": 4,
 "nbformat_minor": 5
}
