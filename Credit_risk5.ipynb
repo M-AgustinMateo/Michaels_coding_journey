{
 "cells": [
  {
   "cell_type": "code",
   "execution_count": 1,
   "id": "cedb1582-4b73-41bf-9928-18393606ec6d",
   "metadata": {},
   "outputs": [
    {
     "data": {
      "text/plain": [
       "' selecting acceptance rates '"
      ]
     },
     "execution_count": 1,
     "metadata": {},
     "output_type": "execute_result"
    }
   ],
   "source": [
    "''' selecting acceptance rates '''\n",
    "\n",
    "# we can create a table with an array of threshold, bad rate, and losses. This is called a STRATEGY TABLE.\n",
    "# set up array or list with acceptance rates --> put these into for loop to generate thresholds and bad rates.\n",
    "\n",
    "# for rate in accept_rates:\n",
    "#  threshold = np.quantile(prob_default, rate) --> determined the new threshold based on the acceptance rate\n",
    "#  thresholds.append(np.quantile(prob_default, rate)) --> appends new threshold to the empty thresh list\n",
    "#  preds_df['loan_status'] = preds_df['prob_default'].apply(lambda x: 1 if x > thresh else 0) --> reassigns the loan_status based on new threshold in list\n",
    "#  aacepted_loans = pred_df[pred_df['pred_loan_status']==0]\n",
    "\n",
    "#  bad_rates.append(np.sum(accepted_loans['true_loan_status']) / accepted_loans['true_loan_status'].count())"
   ]
  },
  {
   "cell_type": "code",
   "execution_count": 2,
   "id": "3b43aecb-88e1-420d-a1af-30b0ad9d86a3",
   "metadata": {},
   "outputs": [
    {
     "data": {
      "text/plain": [
       "' Estimating portfolio value '"
      ]
     },
     "execution_count": 2,
     "metadata": {},
     "output_type": "execute_result"
    }
   ],
   "source": [
    "''' strategy table '''\n",
    "\n",
    "# strat_df = pd.DataFrame(zip(accept_rates, thresholds, bad_rates), columns = ['Acceptance Rate', 'Threshold', 'Bad Rate'])\n",
    "\n",
    "# adding number of accepted loans to columns\n",
    "# len(test_pred_df[test_pred_df['prob_default'] < np.quantile(test_pred_df['prob_default'], accept_rate)])\n",
    "# we then add avg loan amount column\n",
    "\n",
    "''' Estimating portfolio value ''' \n",
    "\n",
    "# ((strat_df['Num accepted loans']*(1-strat_df['Bad rate'])) * strat_df['Avg loan amnt']) - (strat_df['Num accepted loans']*strat_df['Bad rate'] * strat_df['Avg loan amnt'])"
   ]
  },
  {
   "cell_type": "code",
   "execution_count": 3,
   "id": "63cabd97-de3f-4e33-9ef5-0a1f80e02fb8",
   "metadata": {},
   "outputs": [
    {
     "data": {
      "text/plain": [
       "' Total expected loss '"
      ]
     },
     "execution_count": 3,
     "metadata": {},
     "output_type": "execute_result"
    }
   ],
   "source": [
    "''' Total expected loss '''\n",
    "\n",
    "# total_loss = Sum(PG*LGD*EAD) --> LGD is assumed to be = 1 for this scenario\n",
    "# test_pred_df['prob_default']*test_pred_df['loss_given_default']*test_pred_df['loan_amnt']"
   ]
  },
  {
   "cell_type": "code",
   "execution_count": null,
   "id": "477de8ca-20ca-4f47-a6cb-17e2fb828d79",
   "metadata": {},
   "outputs": [],
   "source": [
    "# Calculate the bank's expected loss and assign it to a new column\n",
    "#  test_pred_df['expected_loss'] = test_pred_df['prob_default'] * test_pred_df['loan_amnt'] * test_pred_df['loss_given_default']\n",
    "\n",
    "# Calculate the total expected loss to two decimal places\n",
    "#  tot_exp_loss = round(np.sum(test_pred_df['expected_loss']),2)\n",
    "\n",
    "# Print the total expected loss\n",
    "#  print('Total expected loss: ', '${:,.2f}'.format(tot_exp_loss))"
   ]
  }
 ],
 "metadata": {
  "kernelspec": {
   "display_name": "Python 3 (ipykernel)",
   "language": "python",
   "name": "python3"
  },
  "language_info": {
   "codemirror_mode": {
    "name": "ipython",
    "version": 3
   },
   "file_extension": ".py",
   "mimetype": "text/x-python",
   "name": "python",
   "nbconvert_exporter": "python",
   "pygments_lexer": "ipython3",
   "version": "3.12.2"
  }
 },
 "nbformat": 4,
 "nbformat_minor": 5
}
