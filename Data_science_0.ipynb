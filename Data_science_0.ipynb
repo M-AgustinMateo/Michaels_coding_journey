{
 "cells": [
  {
   "cell_type": "code",
   "execution_count": 2,
   "id": "89ebaff6-4490-4766-8320-79f6152539fb",
   "metadata": {},
   "outputs": [
    {
     "data": {
      "text/plain": [
       "5"
      ]
     },
     "execution_count": 2,
     "metadata": {},
     "output_type": "execute_result"
    }
   ],
   "source": [
    "# when we have lists structured as below:\n",
    "\n",
    "x = [[1,2,3],\n",
    "     ['a','b','c'],\n",
    "     [4,5,6]] \n",
    "\n",
    "x[2][1] # this indexing tells us subset with index 2, and element with index 1 in subset --> answer is 5 from last sub list"
   ]
  },
  {
   "cell_type": "code",
   "execution_count": 1,
   "id": "cbbd4cba-de6b-4363-bc1b-609a46bdab79",
   "metadata": {},
   "outputs": [],
   "source": [
    "# when we want to copy a list, we can do the following:\n",
    "\n",
    "a = [1,2,4,6,8,0]\n",
    "\n",
    "A = list(a) # this creates a copy of list \"a\" but does not make changes to the original list if we change any elements\n",
    "\n",
    "# when using numpy arrays, be careful when adding (+). elements of different types cannot be added, and different data types may be coerced into another \n",
    "# type to allow operation to be performed.\n",
    "\n",
    "# multi-dimensional array sub setting:  np_2d[_:_,_:_] --> [rows, columns]\n",
    "\n",
    "# for plotting, we can change the data to logarithmic scale using plt.xscale('log') --> can be used on x or y data"
   ]
  },
  {
   "cell_type": "code",
   "execution_count": 1,
   "id": "92be9d3f-d92c-4ce1-82f7-c85b6878aefa",
   "metadata": {},
   "outputs": [],
   "source": [
    "# we can use plt.xticks(_,_) and plt.yticks(_,_) t5o customize the ticks on the axis'. First space is values on axis,\n",
    "# the second space is for the labels.\n",
    "\n",
    "# plt.scatter(x_data,y_data,marker_size,marker_color,...) --> marker size generally is input as s = some_list**2\n",
    "\n",
    "# plt.text(_,_,_) can be used to add text to plot --> (x_coordinate,y_coordinate,Text to be added)\n",
    "\n",
    "# when calling from a dictionary, we specify the key to get the value\n",
    "\n",
    "# when removing from a dictionary, use the del() method\n",
    "\n",
    "# when searching a dictinary, we can use key:value pairs where the value can be another dictionary"
   ]
  },
  {
   "cell_type": "code",
   "execution_count": 2,
   "id": "9dbe458b-5d3f-45a0-b283-c4fe207d7f36",
   "metadata": {},
   "outputs": [],
   "source": [
    "# to set the index of a dataframe, use the .index method\n",
    "\n",
    "# file names should have parentheses. ex) cars.csv --> 'cars.csv'\n",
    "\n",
    "# .read_csv( <file name/location>, <index_column from imported data>)\n",
    "\n",
    "# accessing data in dataframe:  SQUARE BRACKETS --> to access columns, specify the column names ex) brics[[\"country\",\"capital\"]]\n",
    "#                                               --> to access rows, create slices ex) brics[1:4]\n",
    "\n",
    "# loc(label-based): rows --> ex) brics.loc[[\"RU\", \"IN\", \"CH\"]]  specify row labels\n",
    "#                   columns --> ex) brics.loc[:, [\"country\", \"capital\"]]  specify the rows, and specify column labels\n",
    "\n",
    "# iloc(index_based): same as above, but the columns have labels as integers: 0,1,2,....\n",
    "\n",
    "# when assessing the Truth value of conditional statements, if AND, OR, or NOT are used, we have to use np.logical_and, np.logical_or(), or np.logical_not()"
   ]
  },
  {
   "cell_type": "code",
   "execution_count": 1,
   "id": "dee385a2-9b3c-4ede-ad33-727193d28894",
   "metadata": {},
   "outputs": [],
   "source": [
    "# use enumerate() to help a FOR loop access index values\n",
    "\n",
    "# to loop over Dictionary: for key, val in my_dict.items(): method\n",
    "\n",
    "# to loop over NumPy array: for val in np.nditer(my_array): function\n",
    "\n",
    "# to loop over pandas DataFrame: for lab, row in DataFrame.iterrows(): method  --> selects the dataframe index by default and the row which is selected\n",
    "\n",
    "# when looping using iterrows, use the row['label_name']\n",
    "\n",
    "#ex) for index, row in ___.iterrows():\n",
    "         # if row['label_name'] == _"
   ]
  },
  {
   "cell_type": "code",
   "execution_count": 1,
   "id": "e54c7fe2-a63d-440f-832d-0ac62c817269",
   "metadata": {},
   "outputs": [],
   "source": [
    "# use max() function to limit range of variable --> max() returns item with the highest value, or highest value in iterable\n",
    "\n",
    "# np.random.randint(Lower, upper)\n",
    "\n",
    "# np.random.seed() --> used to recreate random numbers. Ensures values remain constant and reproducible"
   ]
  },
  {
   "cell_type": "code",
   "execution_count": null,
   "id": "c8d80ba4-fcf4-45e9-95a9-62d68d8e00c8",
   "metadata": {},
   "outputs": [],
   "source": [
    "\"\"\" Subsetting with .loc\"\"\"\n",
    "\n",
    "# .loc is used to subset the data based on labels\n",
    "# Access a group of rows and columns by label(s) or a boolean array.\n",
    "# .loc[] is primarily label based, but may also be used with a boolean array.\n",
    "# both start and stop are included\n",
    "\n",
    "# ex) temperatures_bool = temperatures[(temperatures[\"date\"] >= \"2010-01-01\") & (temperatures[\"date\"] <= \"2011-12-31\")]\n",
    "#     print(temperatures_bool)\n",
    "\n",
    "# Set date as the index and sort the index\n",
    "# temperatures_ind = temperatures.set_index(\"date\").sort_index()\n",
    "\n",
    "# Use .loc[] to subset temperatures_ind for rows in 2010 and 2011\n",
    "# print(temperatures_ind.loc[\"2010\":\"2011\"])\n",
    "\n",
    "# Use .loc[] to subset temperatures_ind for rows from Aug 2010 to Feb 2011\n",
    "# print(temperatures_ind.loc[\"2010-08\":\"2011-02\"])"
   ]
  }
 ],
 "metadata": {
  "kernelspec": {
   "display_name": "Python 3 (ipykernel)",
   "language": "python",
   "name": "python3"
  },
  "language_info": {
   "codemirror_mode": {
    "name": "ipython",
    "version": 3
   },
   "file_extension": ".py",
   "mimetype": "text/x-python",
   "name": "python",
   "nbconvert_exporter": "python",
   "pygments_lexer": "ipython3",
   "version": "3.12.2"
  }
 },
 "nbformat": 4,
 "nbformat_minor": 5
}
