{
 "cells": [
  {
   "cell_type": "code",
   "execution_count": 2,
   "id": "1c53dc63-5bb5-4f11-9620-9b0174b4c7e0",
   "metadata": {},
   "outputs": [
    {
     "data": {
      "text/plain": [
       "'Subsetting DATA'"
      ]
     },
     "execution_count": 2,
     "metadata": {},
     "output_type": "execute_result"
    }
   ],
   "source": [
    "# assessing key details of Dataframes\n",
    "\n",
    "# .values provides all values of dataframe\n",
    "# .columns provides names of all columns in dataframe\n",
    "# .index provides all indices of DF\n",
    "# .info() provides further details about the data\n",
    "\n",
    "# .sort_values(<column_name>, ascending = [TRUE or FALSE]) --> more than one column can be chosen: insert as a list, and ascending can be a set with multiple Boolean values\n",
    "\n",
    "\"\"\"Subsetting DATA\"\"\"\n",
    "\n",
    "# Dataframe[[_____]] --> outer brackets subset the data. inner brackets state what data to subset.\n",
    "# \"&\" can be used as operator for AND logical statement\n",
    "# ex) temperatures_bool = temperatures[(temperatures[\"date\"] >= \"2010-01-01\") & (temperatures[\"date\"] <= \"2011-12-31\")]\n",
    "\n",
    "# .isin(____) can be used to subset dataframe based on condition of inclusion\n",
    "\n",
    "# dataframe[dataframe[<col_name>] <logical condition>] --> this is how to set up a subset based on conditional statement"
   ]
  },
  {
   "cell_type": "code",
   "execution_count": 4,
   "id": "7c88995d-a5c7-4d88-9c1c-f1098869af09",
   "metadata": {},
   "outputs": [
    {
     "data": {
      "text/plain": [
       "'Custom functions'"
      ]
     },
     "execution_count": 4,
     "metadata": {},
     "output_type": "execute_result"
    }
   ],
   "source": [
    "# use the .isin(__) method to filter multiple conditions that would require OR statements.\n",
    "\n",
    "\"\"\"Adding Columns\"\"\"\n",
    "\n",
    "# to transform, manipulate, engineer dataframes, we can add, subtract, multiply, divide columns to make new ones\n",
    "\n",
    "\"\"\"Summary Statistics\"\"\"\n",
    "\n",
    "# IQR is helpful as a standard dev alternative if data contains outliers\n",
    "\n",
    "\"\"\"Custom functions\"\"\"\n",
    "\n",
    "# .agg() method can be used to apply custom functions to a DataFrame. \n",
    "# ex) def iqr(column):\n",
    "       # return column.quantile(0.75) - column.quantile(0.25)\n",
    "\n",
    "# .agg([___]) can have a list used to apply multiple functions to the DataFrame."
   ]
  },
  {
   "cell_type": "code",
   "execution_count": 3,
   "id": "03fb1e56-f615-487d-939c-4d8f97073524",
   "metadata": {},
   "outputs": [
    {
     "data": {
      "text/plain": [
       "'Pivot tables'"
      ]
     },
     "execution_count": 3,
     "metadata": {},
     "output_type": "execute_result"
    }
   ],
   "source": [
    "\"\"\"Removing duplicates\"\"\"\n",
    "\n",
    "# .drop_duplicates(subset=<column_name>) --> used to remove duplicate entries in data. Can pass a list for multiple columns\n",
    "# .value_counts(sort=True/False) --> returns the number of instances of each item, sort places in order from largest to smaller counts --> no column name to insert\n",
    "# .value_counts(normalize=True/False) --> turns counts to proportions of total\n",
    "\n",
    "\"\"\"Grouped summaries\"\"\"\n",
    "\n",
    "# .groupby(___)  method used to calculate summary stats for grouping of data by specified parameters. --> for single param, just insert <param>. Other\n",
    "#wise use a list for multiple params.\n",
    "\n",
    "# ex) dogs.groupby(['color','breed'])[['weight','height']].mean() --> groups by color, breed and finds mean of weight and height.\n",
    "\n",
    "# ex) avocados.groupby('size')['nb_sold'].sum() --> groups avocado dataset by size and calculates the sum of the sold quantities for each size\n",
    "\n",
    "# if we have two categories and we are trying to group by a param which has a shared value, just group by that param.\n",
    "\n",
    "\"\"\"Pivot tables\"\"\"\n",
    "\n",
    "# .pivot_table(value=<column_to_be_summarized>, index=<column_to_group_by>, aggfunc=<additional_stat>) --> by default gives mean value of each group\n",
    "# .pivot_table(columns=<additional_column_to_be_grouped_by>)\n",
    "# .pivot_table(fill_value=<value_to_replace_missing_entries>)\n",
    "# .pivot_table(margins=<provides mean in the last row and column of all entries>)\n",
    "\n",
    "# ex) Add a year column to temperatures, from the year component of the date column.\n",
    "#     Make a pivot table of the avg_temp_c column, with country and city as rows, and year as columns. Assign to temp_by_country_city_vs_year.\n",
    "\n",
    "# Add a year column to temperatures\n",
    "# temperatures['year'] = temperatures['date'].dt.year\n",
    "\n",
    "# Pivot avg_temp_c by country and city vs year\n",
    "# temp_by_country_city_vs_year = temperatures.pivot_table('avg_temp_c', index=['country','city'],columns='year')"
   ]
  },
  {
   "cell_type": "code",
   "execution_count": 2,
   "id": "000ebb62-895d-40a8-a02d-b8a6f331fa87",
   "metadata": {},
   "outputs": [
    {
     "data": {
      "text/plain": [
       "'multi-index level'"
      ]
     },
     "execution_count": 2,
     "metadata": {},
     "output_type": "execute_result"
    }
   ],
   "source": [
    "\"\"\"Set column as index\"\"\"\n",
    "\n",
    "# .set_index(<column_name>)\n",
    "# .reset_index(drop=True) --> resets index and drops the previous chosen index column\n",
    "\n",
    "\"\"\"subsetting with .loc and .isin()\"\"\"\n",
    "\n",
    "# when subsetting without setting the index, we can use df[df[<column>]].isin(<list>)\n",
    "# or we can use df.loc[<values we sort for>] --> if more than one value, .loc takes a list as input\n",
    "\n",
    "# ex)\n",
    "\n",
    "# Subset for Egypt to India\n",
    "# temp_by_country_city_vs_year.loc['Egypt':'India']\n",
    "\n",
    "# Subset for Egypt, Cairo to India, Delhi\n",
    "# temp_by_country_city_vs_year.loc[('Egypt','Cairo'):('India','Delhi')]\n",
    "\n",
    "# Subset for Egypt, Cairo to India, Delhi, and 2005 to 2010\n",
    "# temp_by_country_city_vs_year.loc[('Egypt','Cairo'):('India','Delhi'),'2005':'2010']  --> .loc[(<country>,<city>):(same as left),<year>:<year>]\n",
    "\n",
    "\"\"\"multi-index level\"\"\"\n",
    "\n",
    "# .set_index(<column_name>) --> when subsetting on multiple columns, we can use a list as input\n",
    "\n",
    "# .sort_index(level=<cloumns_to_be_sorted>, ascending=<True, False>) --> can ONLY slice index if it is sorted"
   ]
  },
  {
   "cell_type": "code",
   "execution_count": null,
   "id": "9269972b-04c6-43ca-b52f-c6ef83fc6b49",
   "metadata": {},
   "outputs": [],
   "source": [
    "\" subsetting with .iloc \"\"\"\n",
    "\n",
    "# allows subsetting of rows and columns with numbers\n",
    "\n",
    "# ex) Return the the value of the second [1] row of the first [0] column:\n",
    "\n",
    "# data = [[50, True], [40, False], [30, False]]\n",
    "\n",
    "# df = pd.DataFrame(data)\n",
    "\n",
    "# print(df.iloc[1, 0]) --> .iloc[row, column]\n",
    "\n",
    "# ex) \n",
    "  #  Get the 23rd row, 2nd column (index positions 22 and 1).\n",
    "  #  Get the first 5 rows (index positions 0 to 5).\n",
    "  #  Get all rows, columns 3 and 4 (index positions 2 to 4).\n",
    "  #  Get the first 5 rows, columns 3 and 4.\n",
    "\n",
    "# Get 23rd row, 2nd column (index 22, 1)\n",
    "# print(temperatures.iloc[22,1])\n",
    "\n",
    "# Use slicing to get the first 5 rows\n",
    "# print(temperatures.iloc[:5])\n",
    "\n",
    "# Use slicing to get columns 3 to 4\n",
    "# print(temperatures.iloc[:,2:4])\n",
    "\n",
    "# Use slicing in both directions at once\n",
    "# print(temperatures.iloc[:5,2:4])\n",
    "\n"
   ]
  }
 ],
 "metadata": {
  "kernelspec": {
   "display_name": "Python 3 (ipykernel)",
   "language": "python",
   "name": "python3"
  },
  "language_info": {
   "codemirror_mode": {
    "name": "ipython",
    "version": 3
   },
   "file_extension": ".py",
   "mimetype": "text/x-python",
   "name": "python",
   "nbconvert_exporter": "python",
   "pygments_lexer": "ipython3",
   "version": "3.12.2"
  }
 },
 "nbformat": 4,
 "nbformat_minor": 5
}
