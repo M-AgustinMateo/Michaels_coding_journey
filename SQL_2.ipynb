{
 "cells": [
  {
   "cell_type": "code",
   "execution_count": 1,
   "id": "278727ef-747c-4424-9997-9dc329efa925",
   "metadata": {},
   "outputs": [
    {
     "data": {
      "text/plain": [
       "' Arithmetic '"
      ]
     },
     "execution_count": 1,
     "metadata": {},
     "output_type": "execute_result"
    }
   ],
   "source": [
    "\"\"\" Aggregate functions \"\"\"\n",
    "\n",
    "# performs actions on multiple values and returns a single value\n",
    "# ex) COUNT(), AVG(), SUM(), MIN(), MAX() \n",
    "\n",
    "# COUNT(), MIN(), MAX() can be used with various data types --> for strings, MIN and MAX look at alphabetical placement\n",
    "\n",
    "# ROUND() --> has two inputs: (number to round, # of decimal places)\n",
    "# number of decimal places can be positive or negative --> moves rounding to ones, tens, hundreds or tenths, hundreths, etc.\n",
    "\n",
    "\"\"\" Arithmetic \"\"\"\n",
    "\n",
    "# +, -, *, / --> for division, if we divide integers, the output is the nearest whole number. Need to specify the outcome. ex) 3.0/4.0 more decimals\n",
    "# ALWAYS need to Alias when summarizing with arithmetic"
   ]
  },
  {
   "cell_type": "code",
   "execution_count": 1,
   "id": "c564a0b2-cfdb-49cd-a122-610d97680643",
   "metadata": {},
   "outputs": [
    {
     "data": {
      "text/plain": [
       "' Grouping data '"
      ]
     },
     "execution_count": 1,
     "metadata": {},
     "output_type": "execute_result"
    }
   ],
   "source": [
    "\"\"\" Sorting Data \"\"\"\n",
    "\n",
    "# ORDER BY is a keyword that orders from smallest to largest\n",
    "# ex) SELECT title, FROM films, ORDER BY budget; --> ORDER BY always follows FROM\n",
    "# ORDER BY ___ ASC --> means by ascending order\n",
    "# ORDER BY ___ DESC --> descending order\n",
    "# ORDER By can be done in different orders for each field\n",
    "\n",
    "# ORDER BY field_one, field_two (multiple fields) --> can be thought of as a tiebreaker --> second field is used to determine order\n",
    "\n",
    "\"\"\" Grouping data \"\"\"\n",
    "\n",
    "# GROUP BY  keyword is used to group data by fields\n",
    "# will throw error if GROUP BY is used when a second selected field is not in an aggregate function\n",
    "# ex) SELECT certification, title\n",
    "#     FROM films\n",
    "#     GROUP BY certification;  --> this will error as title is not in an aggregate function\n",
    "\n",
    "# we can GROUP BY multiple fields\n",
    "# ORDER BY always appears after GROUP BY"
   ]
  },
  {
   "cell_type": "code",
   "execution_count": null,
   "id": "0adb5736-d83a-453f-8247-b0e4cae21c47",
   "metadata": {},
   "outputs": [],
   "source": [
    "\"\"\" Filtering grouped data \"\"\"\n",
    "\n",
    "# GROUPs have their own filter word --> HAVING\n",
    "# WHERE filters individual records, HAVING filters grouped records\n",
    "# HAVING allows us to filter a group by a specific condition"
   ]
  }
 ],
 "metadata": {
  "kernelspec": {
   "display_name": "Python 3 (ipykernel)",
   "language": "python",
   "name": "python3"
  },
  "language_info": {
   "codemirror_mode": {
    "name": "ipython",
    "version": 3
   },
   "file_extension": ".py",
   "mimetype": "text/x-python",
   "name": "python",
   "nbconvert_exporter": "python",
   "pygments_lexer": "ipython3",
   "version": "3.12.2"
  }
 },
 "nbformat": 4,
 "nbformat_minor": 5
}
