{
 "cells": [
  {
   "cell_type": "code",
   "execution_count": 1,
   "id": "ff468730",
   "metadata": {},
   "outputs": [
    {
     "name": "stdout",
     "output_type": "stream",
     "text": [
      "Tell me something:who are you?\n",
      "who are you?\n",
      "Tell me who you are. This message may not be for you.\n",
      "What is your first name?Eminem\n",
      "\n",
      "hello, Eminem!\n"
     ]
    }
   ],
   "source": [
    "# input function is used to enter text from a user. \n",
    "\n",
    "message = input(\"Tell me something:\")\n",
    "print(message)\n",
    "\n",
    "# prompt can be used to create a multi line prompt longer than one line\n",
    "\n",
    "prompt = \"Tell me who you are. This message may not be for you.\"\n",
    "prompt += \"\\nWhat is your first name?\"\n",
    "\n",
    "name = input(prompt) \n",
    "print(f\"\\nhello, {name}!\")"
   ]
  },
  {
   "cell_type": "code",
   "execution_count": 6,
   "id": "38b87a62",
   "metadata": {},
   "outputs": [
    {
     "name": "stdout",
     "output_type": "stream",
     "text": [
      "What car would you like to rent?ford \n",
      "let me see if I can get you a ford .\n",
      "How many people are in your group? 6\n",
      "\n",
      " your table is ready\n"
     ]
    }
   ],
   "source": [
    "# all input information is stored as a string. If numerical information is required, we can use the int() function.\n",
    "\n",
    "# Modulo operator % provides the remainder of a division process.\n",
    "\n",
    "prompt = \"What car would you like to rent?\"\n",
    "car = input(prompt)\n",
    "\n",
    "print(f\"let me see if I can get you a {car}.\")\n",
    "\n",
    "prompt = \"How many people are in your group?\"\n",
    "group_size = input(prompt)\n",
    "group_size = int(group_size)\n",
    "\n",
    "if group_size <= 8:\n",
    "    print(\"\\n your table is ready\")\n",
    "else:\n",
    "    print(\"\\n we will call you when the table is ready\")"
   ]
  },
  {
   "cell_type": "code",
   "execution_count": 9,
   "id": "7b72a6c5",
   "metadata": {},
   "outputs": [
    {
     "name": "stdout",
     "output_type": "stream",
     "text": [
      "1\n",
      "2\n",
      "3\n",
      "4\n",
      "5\n",
      "\n",
      "Tell me something, and I will repeat it back to you.\n",
      "Enter 'quit' to end the program how are you?\n",
      " how are you?\n",
      "\n",
      "Tell me something, and I will repeat it back to you.\n",
      "Enter 'quit' to end the programquit\n",
      "quit\n",
      "\n",
      "Tell me something, and I will repeat it back to you.\n",
      "Enter 'quit' to end the programhello \n",
      "hello \n",
      "\n",
      "Tell me something, and I will repeat it back to you.\n",
      "Enter 'quit' to end the programquit\n"
     ]
    }
   ],
   "source": [
    "# while loop continues while certain condition is true.\n",
    "\n",
    "current_number = 1\n",
    "while current_number <= 5:\n",
    "    print(current_number)\n",
    "    current_number += 1 \n",
    "\n",
    "# making a choice of when to quit\n",
    "\n",
    "prompt = \"\\nTell me something, and I will repeat it back to you.\"\n",
    "prompt += \"\\nEnter 'quit' to end the program\"\n",
    "message = \"\"\n",
    "while message != 'quit':\n",
    "    message = input(prompt)\n",
    "    print(message)\n",
    "    \n",
    "# Using a flag - a flag is a signal for the program to end based on many conditions\n",
    "# the below example takes the above code and modifies it for many conditions.\n",
    "\n",
    "prompt = \"\\nTell me something, and I will repeat it back to you.\"\n",
    "prompt += \"\\nEnter 'quit' to end the program\"\n",
    "active = True   # this is the flag\n",
    "while active:\n",
    "    message = input(prompt)\n",
    "    \n",
    "    if message == 'quit':\n",
    "        active = False\n",
    "    else: \n",
    "        print(message)"
   ]
  },
  {
   "cell_type": "code",
   "execution_count": 10,
   "id": "1c5feab5",
   "metadata": {},
   "outputs": [
    {
     "name": "stdout",
     "output_type": "stream",
     "text": [
      "\n",
      "Please enter the name of a city you have visited:\n",
      "(Enter 'quit' when you are finished.) quit\n"
     ]
    }
   ],
   "source": [
    "# using the BREAK statement to exit a loop. BREAK tells a program to end as soon as it is encountered.\n",
    "\n",
    "prompt = \"\\nPlease enter the name of a city you have visited:\"\n",
    "prompt += \"\\n(Enter 'quit' when you are finished.) \"\n",
    "\n",
    "# this line would run forever as there is no statement that would end the loop. Therefore, BREAK is used to end the loop\n",
    "# once 'quit' is encountered. \n",
    "\n",
    "while True:\n",
    "    city = input(prompt)\n",
    "    \n",
    "    if city == 'quit':\n",
    "        break\n",
    "    else:\n",
    "        print(f\"I'd love to go to {city.title()}!\")"
   ]
  },
  {
   "cell_type": "code",
   "execution_count": 1,
   "id": "19e353e7",
   "metadata": {},
   "outputs": [],
   "source": [
    "# CONTINUE statement can be used to make a loop continue in its process. It takes the place of a conditional statement"
   ]
  },
  {
   "cell_type": "code",
   "execution_count": 5,
   "id": "9e6e145b",
   "metadata": {},
   "outputs": [
    {
     "name": "stdout",
     "output_type": "stream",
     "text": [
      "\n",
      " Please enter the name of a topping you would like to have on your pizza.\n",
      " Enter 'quit' when you are finishedpepperoni\n",
      "\n",
      " Please enter the name of a topping you would like to have on your pizza.\n",
      " Enter 'quit' when you are finished cheese\n",
      "\n",
      " Please enter the name of a topping you would like to have on your pizza.\n",
      " Enter 'quit' when you are finished onion\n",
      "\n",
      " Please enter the name of a topping you would like to have on your pizza.\n",
      " Enter 'quit' when you are finished spinach\n",
      "\n",
      " Please enter the name of a topping you would like to have on your pizza.\n",
      " Enter 'quit' when you are finishedquit\n",
      "\n",
      " We will make a pizza with the following toppings: pepperoni\n",
      "\n",
      " We will make a pizza with the following toppings:  cheese\n",
      "\n",
      " We will make a pizza with the following toppings:  onion\n",
      "\n",
      " We will make a pizza with the following toppings:  spinach\n"
     ]
    }
   ],
   "source": [
    "pizza_top = []\n",
    "\n",
    "prompt = \"\\n Please enter the name of a topping you would like to have on your pizza.\"\n",
    "prompt += \"\\n Enter 'quit' when you are finished\"\n",
    "active = True\n",
    "\n",
    "while active:\n",
    "    topping = input(prompt)\n",
    "    \n",
    "    if topping == 'quit':\n",
    "        active = False\n",
    "    else:\n",
    "        pizza_top.append(topping)\n",
    "\n",
    "for topping in pizza_top:\n",
    "    print(f\"\\n We will make a pizza with the following toppings: {topping}\")"
   ]
  },
  {
   "cell_type": "code",
   "execution_count": null,
   "id": "6456c069",
   "metadata": {},
   "outputs": [],
   "source": [
    "# to modify a list as you work through a loop, use a WHILE loop. "
   ]
  }
 ],
 "metadata": {
  "kernelspec": {
   "display_name": "Python 3 (ipykernel)",
   "language": "python",
   "name": "python3"
  },
  "language_info": {
   "codemirror_mode": {
    "name": "ipython",
    "version": 3
   },
   "file_extension": ".py",
   "mimetype": "text/x-python",
   "name": "python",
   "nbconvert_exporter": "python",
   "pygments_lexer": "ipython3",
   "version": "3.9.7"
  }
 },
 "nbformat": 4,
 "nbformat_minor": 5
}
