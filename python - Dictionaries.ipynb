{
 "cells": [
  {
   "cell_type": "code",
   "execution_count": 1,
   "id": "a8b5ec28",
   "metadata": {},
   "outputs": [
    {
     "name": "stdout",
     "output_type": "stream",
     "text": [
      "green\n"
     ]
    }
   ],
   "source": [
    "'''A dictionary is a data structure similar to a list. It allows\n",
    "storage of a large amount of data and in different structures.'''\n",
    "\n",
    "# collection of key-value pairs\n",
    "\n",
    "# defined by the use of {'__:__' , '__:__'} - curly braces\n",
    "\n",
    "# below, we access the information about the color of the alien\n",
    "alien_0 = {'color':'green','points':5}\n",
    "print(alien_0['color'])"
   ]
  },
  {
   "cell_type": "code",
   "execution_count": 3,
   "id": "7df63986",
   "metadata": {},
   "outputs": [
    {
     "name": "stdout",
     "output_type": "stream",
     "text": [
      "{'color': 'green', 'points': 5}\n",
      "{'color': 'green', 'points': 5, 'x_position': 2, 'y_position': 8}\n"
     ]
    }
   ],
   "source": [
    "# mutable structures since new key-value pairs can be added at any point\n",
    "print(alien_0)\n",
    "\n",
    "alien_0['x_position'] = 2 \n",
    "alien_0['y_position'] = 8\n",
    "print(alien_0)\n",
    "\n",
    "# the above method can be used to fill in an empty dictionary"
   ]
  },
  {
   "cell_type": "code",
   "execution_count": 4,
   "id": "d8284877",
   "metadata": {},
   "outputs": [
    {
     "name": "stdout",
     "output_type": "stream",
     "text": [
      "{'color': 'green', 'x_position': 2, 'y_position': 8}\n"
     ]
    }
   ],
   "source": [
    "# value of a key can be changed using the [__] method above.\n",
    "\n",
    "# del statement can be used to remove a key-value pair\n",
    "\n",
    "del alien_0['points']\n",
    "print(alien_0)"
   ]
  },
  {
   "cell_type": "code",
   "execution_count": 6,
   "id": "58e1048f",
   "metadata": {},
   "outputs": [
    {
     "name": "stdout",
     "output_type": "stream",
     "text": [
      "ruby\n"
     ]
    }
   ],
   "source": [
    " favorite_languages = {\n",
    "     'jen':'python',\n",
    "     'sarah':'c',\n",
    "     'edward':'ruby',\n",
    "     'phil':'python'\n",
    "     }\n",
    "\n",
    "# above dictionary structure is one way to structure \n",
    "\n",
    "print(favorite_languages['edward'])"
   ]
  },
  {
   "cell_type": "code",
   "execution_count": 1,
   "id": "0dcf5dc0",
   "metadata": {},
   "outputs": [
    {
     "name": "stdout",
     "output_type": "stream",
     "text": [
      "\n",
      "key:username\n",
      "Value:efermi\n",
      "\n",
      "key:first\n",
      "Value:enrico\n",
      "\n",
      "key:last\n",
      "Value:fermi\n"
     ]
    }
   ],
   "source": [
    "'''Looping through all key-pair values in a dictionary'''\n",
    "\n",
    "# to loop through a dictionary use:\n",
    "\n",
    "user_0 = {\n",
    "    'username': 'efermi',\n",
    "    'first':'enrico',\n",
    "    'last':'fermi',\n",
    "}\n",
    "\n",
    "for key, value in user_0.items():\n",
    "    print(f\"\\nkey:{key}\")\n",
    "    print(f\"Value:{value}\")\n",
    "    \n",
    "# items() method returns a list of key-value pairs which are then looped through"
   ]
  },
  {
   "cell_type": "code",
   "execution_count": 4,
   "id": "393cb2cb",
   "metadata": {},
   "outputs": [
    {
     "name": "stdout",
     "output_type": "stream",
     "text": [
      "Jen\n",
      "Sarah\n",
      "Edward\n",
      "Phil\n",
      "Jen\n",
      "Sarah\n",
      "Edward\n",
      "Phil\n"
     ]
    }
   ],
   "source": [
    "\"\"\"looping through all keys in dictionary\"\"\"\n",
    "\n",
    "favorite_languages = {\n",
    "     'jen':'python',\n",
    "     'sarah':'c',\n",
    "     'edward':'ruby',\n",
    "     'phil':'python'\n",
    "     }\n",
    "\n",
    "for name in favorite_languages.keys():\n",
    "    print(name.title())\n",
    "    \n",
    "# or it can be implemented as follows:\n",
    "\n",
    "for name in favorite_languages:\n",
    "    print(name.title())\n",
    "    \n",
    "# .Keys() method creates (returns) a list of all the keys. makes easy to loop."
   ]
  },
  {
   "cell_type": "code",
   "execution_count": 1,
   "id": "99a28643",
   "metadata": {},
   "outputs": [],
   "source": [
    "# .values() method can be used to loop thorugh all values in dictionary\n",
    "\n",
    "# in case it is necessary to check for repeated elements, the set() \n",
    "# function can be used to parse a dictionary without displaying repeats. \n"
   ]
  },
  {
   "cell_type": "code",
   "execution_count": 2,
   "id": "93197901",
   "metadata": {},
   "outputs": [],
   "source": [
    "# a list can have dictionaries as its elements. This can also be reveresed\n",
    "# so that the dictionary can have lists in it. "
   ]
  },
  {
   "cell_type": "code",
   "execution_count": 4,
   "id": "e78b7a76",
   "metadata": {},
   "outputs": [
    {
     "name": "stdout",
     "output_type": "stream",
     "text": [
      "{'color': 'green', 'points': 5, 'speed': 'slow'}\n",
      "{'color': 'green', 'points': 5, 'speed': 'slow'}\n",
      "{'color': 'green', 'points': 5, 'speed': 'slow'}\n",
      "{'color': 'green', 'points': 5, 'speed': 'slow'}\n",
      "{'color': 'green', 'points': 5, 'speed': 'slow'}\n",
      "...\n",
      "Total number of aliens: 40\n"
     ]
    }
   ],
   "source": [
    "# creating an empty list that stores __ # of aliens.\n",
    "\n",
    "aliens = []\n",
    "\n",
    "# creates 40 green aliens\n",
    "for alien_number in range(40):\n",
    "    new_alien = {'color':'green','points':5,'speed':'slow'}\n",
    "    aliens.append(new_alien)\n",
    "    \n",
    "for alien in aliens[:5]:\n",
    "    print(alien)\n",
    "print(\"...\")\n",
    "\n",
    "print(f\"Total number of aliens: {len(aliens)}\")"
   ]
  },
  {
   "cell_type": "code",
   "execution_count": null,
   "id": "6f4e7eec",
   "metadata": {},
   "outputs": [],
   "source": [
    "# an if and elif block can be added to the for loop to make aliens change color, points, and speed. "
   ]
  }
 ],
 "metadata": {
  "kernelspec": {
   "display_name": "Python 3 (ipykernel)",
   "language": "python",
   "name": "python3"
  },
  "language_info": {
   "codemirror_mode": {
    "name": "ipython",
    "version": 3
   },
   "file_extension": ".py",
   "mimetype": "text/x-python",
   "name": "python",
   "nbconvert_exporter": "python",
   "pygments_lexer": "ipython3",
   "version": "3.9.7"
  }
 },
 "nbformat": 4,
 "nbformat_minor": 5
}
