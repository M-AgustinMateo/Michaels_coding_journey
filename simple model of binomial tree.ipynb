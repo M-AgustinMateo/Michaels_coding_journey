{
 "cells": [
  {
   "cell_type": "code",
   "execution_count": 14,
   "id": "646f1509",
   "metadata": {},
   "outputs": [],
   "source": [
    "import pandas as pd\n",
    "import pandas_datareader.data as web\n",
    "import numpy as np\n",
    "import math \n",
    "import matplotlib.pyplot as plt\n",
    "import datetime as dt "
   ]
  },
  {
   "cell_type": "code",
   "execution_count": 2,
   "id": "3433ae0e",
   "metadata": {},
   "outputs": [
    {
     "name": "stdout",
     "output_type": "stream",
     "text": [
      "176.07 71.07\n",
      "132.69 27.69\n",
      "100.0 0\n",
      "75.36 0\n",
      "56.8 0\n"
     ]
    }
   ],
   "source": [
    "N = 4\n",
    "S0  = 100\n",
    "T = 0.5\n",
    "sigma = 0.4 #volatility of option \n",
    "dt = T/N\n",
    "# strike price = K\n",
    "K =105 \n",
    "r = 0.05\n",
    "\n",
    "u = np.exp( sigma * np.sqrt(dt) )\n",
    "d =  np.exp( -sigma * np.sqrt(dt) )\n",
    "p = ( np.exp(r*dt) - d) / (u -d)\n",
    "\n",
    "for k in reversed(range(N+1)):\n",
    "    # k here equals the iterated variable or number of steps in reverse order \n",
    "    ST = S0 * u**k * d ** (N-k)\n",
    "    print(round(ST,2), round(max(ST-K,0),2))"
   ]
  },
  {
   "cell_type": "code",
   "execution_count": 3,
   "id": "cde7f97c",
   "metadata": {},
   "outputs": [
    {
     "name": "stdout",
     "output_type": "stream",
     "text": [
      "0.06\n",
      "0.24\n",
      "0.37\n",
      "0.26\n",
      "0.07\n"
     ]
    }
   ],
   "source": [
    "# calculate probabilities at each node of the process\n",
    "def combos(n,i):\n",
    "    return math.factorial(n)/(math.factorial(n-i)*math.factorial(i))\n",
    "\n",
    "for k in reversed(range(N+1)):\n",
    "    p_star = combos(N,k)*p**k*(1-p)**(N-k)\n",
    "    print(round(p_star,2))"
   ]
  },
  {
   "cell_type": "code",
   "execution_count": 4,
   "id": "4a9ee3ec",
   "metadata": {},
   "outputs": [
    {
     "name": "stdout",
     "output_type": "stream",
     "text": [
      "10.287301121702995\n"
     ]
    }
   ],
   "source": [
    "C = 0\n",
    "# calculate the value of the call - sum of probability at each node*(St-K)\n",
    "\n",
    "for k in reversed(range(N+1)):\n",
    "    p_star = combos(N,k)*p**k*(1-p)**(N-k)\n",
    "    St = S0*u**k*d**(N-k)\n",
    "    C += max(St - K,0)*p_star\n",
    "\n",
    "# discounted value of call\n",
    "print(np.exp(-r*T)*C)"
   ]
  },
  {
   "cell_type": "code",
   "execution_count": 5,
   "id": "37037c8e",
   "metadata": {},
   "outputs": [],
   "source": [
    "# function to value puts or calls with varying step size \n",
    "\n",
    "def binom_EU1(S0, K,T,r,sigma,N,type_= 'call'):\n",
    "    dt = T/N\n",
    "    u = np.exp( sigma * np.sqrt(dt) )\n",
    "    d =  np.exp( -sigma * np.sqrt(dt) )\n",
    "    p = ( np.exp(r*dt) - d) / (u -d)\n",
    "    value = 0 \n",
    "    \n",
    "    for i in range(N+1):\n",
    "        node_prob = combos(N,i)*p**i*(1-p)**(N-i)\n",
    "        St = S0*(u)**i*d**(N-i)\n",
    "        if type_ == 'call':\n",
    "            value += max(St-K,0)*node_prob\n",
    "        elif type == 'put':\n",
    "            value += max(K-St,0)*node_prob\n",
    "        else: \n",
    "            raise ValueError(\"type_ must be 'call' or 'put'\")\n",
    "\n",
    "    return value*np.exp(-r*T)\n"
   ]
  },
  {
   "cell_type": "code",
   "execution_count": 6,
   "id": "bf545177",
   "metadata": {},
   "outputs": [
    {
     "data": {
      "text/plain": [
       "10.287301121702995"
      ]
     },
     "execution_count": 6,
     "metadata": {},
     "output_type": "execute_result"
    }
   ],
   "source": [
    "binom_EU1(S0,K,T,r,sigma,N)"
   ]
  },
  {
   "cell_type": "code",
   "execution_count": 7,
   "id": "e65708da",
   "metadata": {},
   "outputs": [
    {
     "name": "stdout",
     "output_type": "stream",
     "text": [
      "price in 2 steps is 9.99\n",
      "price in 8 steps is 10.37\n",
      "price in 32 steps is 10.3\n",
      "price in 128 steps is 10.2\n",
      "price in 512 steps is 10.21\n"
     ]
    }
   ],
   "source": [
    "# limiting process for value of call that approaches Black Scholes Formula\n",
    "Ns = [2,8,32,128,512]\n",
    "\n",
    "for n in Ns:\n",
    "    c = binom_EU1(S0, K, T, r, sigma, n)\n",
    "    print(f'price in {n} steps is {round(c,2)}')"
   ]
  },
  {
   "cell_type": "code",
   "execution_count": 8,
   "id": "c04c189e",
   "metadata": {
    "scrolled": false
   },
   "outputs": [
    {
     "data": {
      "image/png": "[encoded data removed]",
      "text/plain": [
       "<Figure size 432x288 with 1 Axes>"
      ]
     },
     "metadata": {
      "needs_background": "light"
     },
     "output_type": "display_data"
    }
   ],
   "source": [
    "# coin flipping option model \n",
    "\n",
    "N = 100000\n",
    "vola = 0.4\n",
    "T = 0.5\n",
    "K = 105\n",
    "r = 0.05\n",
    "dt = T/N\n",
    "heads = np.exp(vola*np.sqrt(dt))\n",
    "tails = np.exp(-vola*np.sqrt(dt))\n",
    "S0 =100\n",
    "\n",
    "p = (np.exp(r*dt)-tails)/(heads - tails)\n",
    "paths = np.random.choice([heads,tails],p=[p,1-p],size=(N,1000))\n",
    "plt.plot(paths.cumprod(axis=0)*100,color='blue');"
   ]
  },
  {
   "cell_type": "code",
   "execution_count": null,
   "id": "04f5e7ed",
   "metadata": {},
   "outputs": [],
   "source": []
  },
  {
   "cell_type": "code",
   "execution_count": null,
   "id": "19c00b43",
   "metadata": {},
   "outputs": [],
   "source": []
  }
 ],
 "metadata": {
  "kernelspec": {
   "display_name": "Python 3 (ipykernel)",
   "language": "python",
   "name": "python3"
  },
  "language_info": {
   "codemirror_mode": {
    "name": "ipython",
    "version": 3
   },
   "file_extension": ".py",
   "mimetype": "text/x-python",
   "name": "python",
   "nbconvert_exporter": "python",
   "pygments_lexer": "ipython3",
   "version": "3.9.13"
  }
 },
 "nbformat": 4,
 "nbformat_minor": 5
}
