{
 "cells": [
  {
   "cell_type": "code",
   "execution_count": 2,
   "id": "09446afd-4d78-4474-b443-054a19aa5875",
   "metadata": {},
   "outputs": [],
   "source": [
    "# pd.crosstab(cr_loan['person_home_ownership'], cr_loan['loan_status'],values = cr_loan['loan_int_rate'], aggfunc='mean').round(2)\n",
    "# aggfunc can take a list for multiple operations\n",
    "\n",
    "# plt.scatter(cr_loan['person_income'], cr_loan['loan_int_rate'], c ='blue', alpha = 0.5)\n",
    "# plt.xlabel(\"personal income\")\n",
    "# plt.ylabel(\"loan interest rate\")\n",
    "# plt.show()\n",
    "\n",
    "# .dtypes is a method used to acquire information on the dataset"
   ]
  },
  {
   "cell_type": "code",
   "execution_count": 3,
   "id": "49adb50e-2339-4846-8716-309764a35e93",
   "metadata": {},
   "outputs": [
    {
     "data": {
      "text/plain": [
       "' Outliers and performance '"
      ]
     },
     "execution_count": 3,
     "metadata": {},
     "output_type": "execute_result"
    }
   ],
   "source": [
    "\"\"\" Outliers and performance \"\"\"\n",
    "\n",
    "# outliers are human error, issues with data ingestion tools, etc.\n",
    "# we can detect outliers with a CROSS TABLE\n",
    "\n",
    "# can use .drop() method to remove outliers\n",
    "# ex) indices = cr_loan[cr_loan['person_emp_length']>=60].index\n",
    "#     cr_loan.drop(indices, inplace=True)"
   ]
  },
  {
   "cell_type": "code",
   "execution_count": 4,
   "id": "a877ac4c-aaad-48b4-93f8-86d8c13a7c58",
   "metadata": {},
   "outputs": [],
   "source": [
    "# Use Pandas to drop the record from the data frame and create a new one\n",
    "# cr_loan_new = cr_loan.drop(cr_loan[cr_loan['person_age'] > 80].index)\n",
    "\n",
    "# Create a scatter plot of age and interest rate\n",
    "# colors = [\"blue\",\"red\"]  --> list with colors to be used\n",
    "# plt.scatter(cr_loan_new['person_age'], cr_loan_new['loan_int_rate'],\n",
    "#            c = cr_loan_new['loan_status'],\n",
    "#            cmap = matplotlib.colors.ListedColormap(colors),\n",
    "#            alpha=0.5)\n",
    "# plt.xlabel(\"Person Age\")\n",
    "# plt.ylabel(\"Loan Interest Rate\")\n",
    "# plt.show()"
   ]
  },
  {
   "cell_type": "code",
   "execution_count": 5,
   "id": "d47ee2cb-dee6-4e7b-9312-9720df74efc8",
   "metadata": {},
   "outputs": [
    {
     "data": {
      "text/plain": [
       "' Missing Data '"
      ]
     },
     "execution_count": 5,
     "metadata": {},
     "output_type": "execute_result"
    }
   ],
   "source": [
    "\"\"\" Missing Data \"\"\"\n",
    "# can be NaN, empty, Null\n",
    "# can be replaced, removed, left there as is\n",
    "\n",
    "# finding missing data --> use .isnull(), .any(), and .sum() (used to tally nulls)\n",
    "# .fillna() replaces missing data with the chosen value --> ex) cr_loan['loan_int_rate'].fillna((cr_loan['loan_int_rate'].mean()), inplace=True) --> replaces missing with avg loan rate\n",
    "\n",
    "# dropping missing data \n",
    "# ex) indices = cr_loan[cr_loan['person_emp_length'].isnull()].index\n",
    "#     cr_loan.drop(indices, inplace=True)  --> takes the indices of Null data in person_emp_length column and drops null values"
   ]
  },
  {
   "cell_type": "code",
   "execution_count": 6,
   "id": "78442932-5a53-4eac-82c8-04a4a7620adf",
   "metadata": {},
   "outputs": [
    {
     "data": {
      "text/plain": [
       "' Example '"
      ]
     },
     "execution_count": 6,
     "metadata": {},
     "output_type": "execute_result"
    }
   ],
   "source": [
    "\"\"\" Example \"\"\"\n",
    "\n",
    "# Print a null value column array\n",
    "#   print(cr_loan.columns[cr_loan.isnull().any()])\n",
    "\n",
    "# Print the top five rows with nulls for employment length\n",
    "#   print(cr_loan[cr_loan['person_emp_length'].isnull()].head(5))\n",
    "\n",
    "# Impute the null values with the median value for all employment lengths\n",
    "#  cr_loan['person_emp_length'].fillna((cr_loan['person_emp_length'].median()), inplace=True)\n",
    "\n",
    "# Create a histogram of employment length\n",
    "#  n, bins, patches = plt.hist(cr_loan['person_emp_length'], bins='auto', color='blue')\n",
    "#  plt.xlabel(\"Person Employment Length\")\n",
    "#  plt.show()\n",
    "\n",
    "\"\"\" Example \"\"\"\n",
    "\n",
    "# Print the number of nulls\n",
    "#  print(cr_loan['loan_int_rate'].isnull().sum())\n",
    "\n",
    "# Store the array on indices\n",
    "#  indices = cr_loan[cr_loan['loan_int_rate'].isnull()].index\n",
    "\n",
    "# Save the new data without missing data\n",
    "#  cr_loan_clean = cr_loan.drop(indices)"
   ]
  }
 ],
 "metadata": {
  "kernelspec": {
   "display_name": "Python 3 (ipykernel)",
   "language": "python",
   "name": "python3"
  },
  "language_info": {
   "codemirror_mode": {
    "name": "ipython",
    "version": 3
   },
   "file_extension": ".py",
   "mimetype": "text/x-python",
   "name": "python",
   "nbconvert_exporter": "python",
   "pygments_lexer": "ipython3",
   "version": "3.12.2"
  }
 },
 "nbformat": 4,
 "nbformat_minor": 5
}
