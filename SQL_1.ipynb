{
 "cells": [
  {
   "cell_type": "code",
   "execution_count": 1,
   "id": "cb6641bb-3469-45a9-b8a1-f5d587496ab4",
   "metadata": {},
   "outputs": [],
   "source": [
    "# Databases are constructed with tables\n",
    "# rows --> RECORDS --> no limit on records\n",
    "# columns --> FIELDS --> set at DB creation\n",
    "\n",
    "# unique indentifiers are used to indentify records in a table"
   ]
  },
  {
   "cell_type": "code",
   "execution_count": 2,
   "id": "80315f1e-4dc5-46dc-be70-e11843465b11",
   "metadata": {},
   "outputs": [
    {
     "data": {
      "text/plain": [
       "' Running SQL \"code\" '"
      ]
     },
     "execution_count": 2,
     "metadata": {},
     "output_type": "execute_result"
    }
   ],
   "source": [
    "\"\"\" Running SQL \"code\" \"\"\"\n",
    "\n",
    "# SELECT * --> indicates which FIELDS should be selected (can select multiple FIELDS) --> * selects all FIELDs\n",
    "# FROM <table_name>; --> indicates the table where data is stored\n",
    "\n",
    "# above code displays the data in the chosen table\n",
    "\n",
    "# VARCHAR is a popular string data type in SQL --> stores 1000s of characters --> no need to perfrom mathematical operations on these values\n",
    "# INT is a popular integer data type in SQL \n",
    "# # NUMERIIC is a popular float data type in SQL"
   ]
  },
  {
   "cell_type": "code",
   "execution_count": 3,
   "id": "e1f2c820-955b-41c6-9a34-9b228f7c43f8",
   "metadata": {},
   "outputs": [
    {
     "data": {
      "text/plain": [
       "' Views '"
      ]
     },
     "execution_count": 3,
     "metadata": {},
     "output_type": "execute_result"
    }
   ],
   "source": [
    "\"\"\" Aliasing \"\"\"\n",
    "\n",
    "# SELECT <FIELD> AS <ALIAS> --> the ALIAS renames the FIELD column in the query search\n",
    "# FROM <Table> \n",
    "\n",
    "\"\"\" distinct records \"\"\"\n",
    "\n",
    "# SELECT DISTINCT <FIELD> --> removes duplicates and only displays the distinct values\n",
    "\n",
    "\"\"\" Views \"\"\"\n",
    "\n",
    "# a view is a virtual table that is result of  saved SQL SELECT statement\n",
    "\n",
    "# ex) CREATE VIEW employee_hire_years AS\n",
    "#     SELECT id, name, year_hired\n",
    "#     FROM employees;"
   ]
  },
  {
   "cell_type": "code",
   "execution_count": 1,
   "id": "ffa77fa9-8aab-4c92-adad-f66f75af8478",
   "metadata": {},
   "outputs": [
    {
     "data": {
      "text/plain": [
       "' General points of importance '"
      ]
     },
     "execution_count": 1,
     "metadata": {},
     "output_type": "execute_result"
    }
   ],
   "source": [
    "\"\"\" counting number of records \"\"\"\n",
    "\n",
    "# COUNT(<FIELD>) --> count number of instances --> need to use COUNT() multiple times for multiple counts --> COUNT(), COUNT() \n",
    "# ex) SELECT COUNT(birthdate) AS count_birthdates\n",
    "#     FROM people;\n",
    "\n",
    "# COUNT(*) --> counts all records in the table --> All rows\n",
    "# COUNT(DISTINCT <field_name>) --> counts distinct values\n",
    "\n",
    "\"\"\" General points of importance \"\"\"\n",
    "\n",
    "# ensure keywords are capitalized\n",
    "# poorly named fields should be placed in quotes --> facebook likes --> \"facebook likes\" underscore instead of spaces"
   ]
  },
  {
   "cell_type": "code",
   "execution_count": 1,
   "id": "eba0ca38-1128-42ac-a285-ad48c8ea06d8",
   "metadata": {},
   "outputs": [
    {
     "data": {
      "text/plain": [
       "' Filtering '"
      ]
     },
     "execution_count": 1,
     "metadata": {},
     "output_type": "execute_result"
    }
   ],
   "source": [
    "\"\"\" Filtering \"\"\"\n",
    "\n",
    "# WHERE keyword used to filter based on a condition\n",
    "# <> --> means \"not equal to\" in SQL\n",
    "# use single quotes around strings to filter by\n",
    "\n",
    "# MULTIPLE CRITERIA --> we have OR, AND, and BETWEEN as additional keywords for filtering"
   ]
  },
  {
   "cell_type": "code",
   "execution_count": 1,
   "id": "0b026c7f-1338-42f9-ab1c-e7ef3699d522",
   "metadata": {},
   "outputs": [
    {
     "data": {
      "text/plain": [
       "' Filtering Text '"
      ]
     },
     "execution_count": 1,
     "metadata": {},
     "output_type": "execute_result"
    }
   ],
   "source": [
    "\"\"\" Filtering Text \"\"\"\n",
    "\n",
    "# LIKE, NOT LIKE, and IN --> keywords used to filter a pattern in text\n",
    "\n",
    "# for LIKE, we can include a % or a _ (underscore) to match characters. % matches many characters, _ matches a single character.\n",
    "# ex) Ade% matches to Adel, Adelaide, etc.  ex) Ev_ matches to Eve, Eva, etc.\n",
    "\n",
    "# WildCard position --> % and _ can be placed anywhere in the text to filter in different ways\n",
    "# IN can be used to filter based on multiple conditions\n",
    "# BETWEEN\n",
    "# AND, OR"
   ]
  },
  {
   "cell_type": "code",
   "execution_count": null,
   "id": "289eaee5-6557-4340-896c-fb7a608ba815",
   "metadata": {},
   "outputs": [],
   "source": [
    "\"\"\" Null values \"\"\"\n",
    "\n",
    "# IS NULL keyword used to check if a field has missing values\n",
    "# IS NOT NULL "
   ]
  }
 ],
 "metadata": {
  "kernelspec": {
   "display_name": "Python 3 (ipykernel)",
   "language": "python",
   "name": "python3"
  },
  "language_info": {
   "codemirror_mode": {
    "name": "ipython",
    "version": 3
   },
   "file_extension": ".py",
   "mimetype": "text/x-python",
   "name": "python",
   "nbconvert_exporter": "python",
   "pygments_lexer": "ipython3",
   "version": "3.12.2"
  }
 },
 "nbformat": 4,
 "nbformat_minor": 5
}
