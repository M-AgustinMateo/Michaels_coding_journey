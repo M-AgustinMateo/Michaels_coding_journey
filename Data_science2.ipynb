{
 "cells": [
  {
   "cell_type": "code",
   "execution_count": 1,
   "id": "5b29e49c-1a5e-4383-8d75-4a8df04d0ede",
   "metadata": {},
   "outputs": [
    {
     "data": {
      "text/plain": [
       "' pivot table filtering '"
      ]
     },
     "execution_count": 1,
     "metadata": {},
     "output_type": "execute_result"
    }
   ],
   "source": [
    "\"\"\" pivot table filtering \"\"\"\n",
    "\n",
    "# Get the worldwide mean temp by year\n",
    "# mean_temp_by_year = temp_by_country_city_vs_year.mean()\n",
    "\n",
    "# Filter for the year that had the highest mean temp\n",
    "# print(mean_temp_by_year[mean_temp_by_year==mean_temp_by_year.max()])\n",
    "\n",
    "# Get the mean temp by city\n",
    "# mean_temp_by_city = temp_by_country_city_vs_year.mean(axis='columns')\n",
    "\n",
    "# Filter for the city that had the lowest mean temp\n",
    "# print(mean_temp_by_city[mean_temp_by_city==mean_temp_by_city.min()])"
   ]
  },
  {
   "cell_type": "code",
   "execution_count": 3,
   "id": "b5afca36-27ab-40de-ab74-3ed2dc6f095d",
   "metadata": {},
   "outputs": [
    {
     "data": {
      "text/plain": [
       "' missing values '"
      ]
     },
     "execution_count": 3,
     "metadata": {},
     "output_type": "execute_result"
    }
   ],
   "source": [
    "\"\"\" plotting \"\"\"\n",
    "\n",
    "# .hist(bins = ) --> allows histogram to be adjusted for bins\n",
    "\n",
    "# .plot(kind=\"bar\", title=\" \") --> creates bar plot. Not the same as histogram\n",
    "\n",
    "# \"kind\" can be: line, scatter, etc.\n",
    "\n",
    "# ex) \n",
    "\n",
    "# Histogram of conventional avocados avg_price \n",
    "# avocados[avocados['type']=='conventional']['avg_price'].hist()\n",
    "\n",
    "# Histogram of organic avocados avg_price\n",
    "# avocados[avocados['type']=='organic']['avg_price'].hist()\n",
    "\n",
    "# Add a legend\n",
    "# plt.legend(['conventional','organic'])\n",
    "\n",
    "\"\"\" missing values \"\"\"\n",
    "\n",
    "# df.isna().any() --> provides information on presence of NaN values in all of the columns\n",
    "# df.isna().sum() --> total of NaN \n",
    "# df.dropna()\n",
    "# df.fillna(___) --> all NaN will be filled in with this value"
   ]
  },
  {
   "cell_type": "code",
   "execution_count": null,
   "id": "09a8298a-b61f-49f5-abf0-537c977260f0",
   "metadata": {},
   "outputs": [],
   "source": [
    "\"\"\" Creating Dataframes \"\"\"\n",
    "\n",
    "# if we use a list of dictionaries --> DF constructed row by row\n",
    "# if we use a dictionary of lists --> DF constructed column by column"
   ]
  }
 ],
 "metadata": {
  "kernelspec": {
   "display_name": "Python 3 (ipykernel)",
   "language": "python",
   "name": "python3"
  },
  "language_info": {
   "codemirror_mode": {
    "name": "ipython",
    "version": 3
   },
   "file_extension": ".py",
   "mimetype": "text/x-python",
   "name": "python",
   "nbconvert_exporter": "python",
   "pygments_lexer": "ipython3",
   "version": "3.12.2"
  }
 },
 "nbformat": 4,
 "nbformat_minor": 5
}
